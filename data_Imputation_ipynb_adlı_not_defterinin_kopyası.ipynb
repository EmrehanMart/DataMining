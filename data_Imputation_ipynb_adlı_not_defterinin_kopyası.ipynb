{
  "cells": [
    {
      "cell_type": "code",
      "source": [
        "# UCIMLRepo'yu yükle\n",
        "!pip install ucimlrepo\n",
        "\n",
        "from ucimlrepo import fetch_ucirepo\n",
        "\n",
        "# Dataset\n",
        "credit_approval = fetch_ucirepo(id=27)\n",
        "\n",
        "# Veriyi ayır\n",
        "X = credit_approval.data.features\n",
        "y = credit_approval.data.targets\n",
        "\n",
        "# Metadata ve değişken bilgisi\n",
        "print(credit_approval.metadata)\n",
        "print(credit_approval.variables)\n",
        "\n",
        "# Eksik değerlerin kontrolü\n",
        "print(X.isnull().sum())\n"
      ],
      "metadata": {
        "id": "c7eXWKT0w81Y",
        "colab": {
          "base_uri": "https://localhost:8080/"
        },
        "outputId": "29011c63-1584-48c3-9f02-38fcd1aa038e",
        "collapsed": true
      },
      "execution_count": null,
      "outputs": [
        {
          "output_type": "stream",
          "name": "stdout",
          "text": [
            "Collecting ucimlrepo\n",
            "  Downloading ucimlrepo-0.0.7-py3-none-any.whl.metadata (5.5 kB)\n",
            "Requirement already satisfied: pandas>=1.0.0 in /usr/local/lib/python3.10/dist-packages (from ucimlrepo) (2.2.2)\n",
            "Requirement already satisfied: certifi>=2020.12.5 in /usr/local/lib/python3.10/dist-packages (from ucimlrepo) (2024.12.14)\n",
            "Requirement already satisfied: numpy>=1.22.4 in /usr/local/lib/python3.10/dist-packages (from pandas>=1.0.0->ucimlrepo) (1.26.4)\n",
            "Requirement already satisfied: python-dateutil>=2.8.2 in /usr/local/lib/python3.10/dist-packages (from pandas>=1.0.0->ucimlrepo) (2.8.2)\n",
            "Requirement already satisfied: pytz>=2020.1 in /usr/local/lib/python3.10/dist-packages (from pandas>=1.0.0->ucimlrepo) (2024.2)\n",
            "Requirement already satisfied: tzdata>=2022.7 in /usr/local/lib/python3.10/dist-packages (from pandas>=1.0.0->ucimlrepo) (2024.2)\n",
            "Requirement already satisfied: six>=1.5 in /usr/local/lib/python3.10/dist-packages (from python-dateutil>=2.8.2->pandas>=1.0.0->ucimlrepo) (1.17.0)\n",
            "Downloading ucimlrepo-0.0.7-py3-none-any.whl (8.0 kB)\n",
            "Installing collected packages: ucimlrepo\n",
            "Successfully installed ucimlrepo-0.0.7\n",
            "{'uci_id': 27, 'name': 'Credit Approval', 'repository_url': 'https://archive.ics.uci.edu/dataset/27/credit+approval', 'data_url': 'https://archive.ics.uci.edu/static/public/27/data.csv', 'abstract': 'This data concerns credit card applications; good mix of attributes', 'area': 'Business', 'tasks': ['Classification'], 'characteristics': ['Multivariate'], 'num_instances': 690, 'num_features': 15, 'feature_types': ['Categorical', 'Integer', 'Real'], 'demographics': [], 'target_col': ['A16'], 'index_col': None, 'has_missing_values': 'yes', 'missing_values_symbol': 'NaN', 'year_of_dataset_creation': 1987, 'last_updated': 'Wed Aug 23 2023', 'dataset_doi': '10.24432/C5FS30', 'creators': ['J. R. Quinlan'], 'intro_paper': None, 'additional_info': {'summary': 'This file concerns credit card applications.  All attribute names and values have been changed to meaningless symbols to protect confidentiality of the data.\\r\\n  \\r\\nThis dataset is interesting because there is a good mix of attributes -- continuous, nominal with small numbers of values, and nominal with larger numbers of values.  There are also a few missing values.', 'purpose': None, 'funded_by': None, 'instances_represent': None, 'recommended_data_splits': None, 'sensitive_data': None, 'preprocessing_description': None, 'variable_info': 'A1:\\tb, a.\\r\\nA2:\\tcontinuous.\\r\\nA3:\\tcontinuous.\\r\\nA4:\\tu, y, l, t.\\r\\nA5:\\tg, p, gg.\\r\\nA6:\\tc, d, cc, i, j, k, m, r, q, w, x, e, aa, ff.\\r\\nA7:\\tv, h, bb, j, n, z, dd, ff, o.\\r\\nA8:\\tcontinuous.\\r\\nA9:\\tt, f.\\r\\nA10:\\tt, f.\\r\\nA11:\\tcontinuous.\\r\\nA12:\\tt, f.\\r\\nA13:\\tg, p, s.\\r\\nA14:\\tcontinuous.\\r\\nA15:\\tcontinuous.\\r\\nA16: +,-         (class attribute)', 'citation': None}}\n",
            "   name     role         type demographic description units missing_values\n",
            "0   A16   Target  Categorical        None        None  None             no\n",
            "1   A15  Feature   Continuous        None        None  None             no\n",
            "2   A14  Feature   Continuous        None        None  None            yes\n",
            "3   A13  Feature  Categorical        None        None  None             no\n",
            "4   A12  Feature  Categorical        None        None  None             no\n",
            "5   A11  Feature   Continuous        None        None  None             no\n",
            "6   A10  Feature  Categorical        None        None  None             no\n",
            "7    A9  Feature  Categorical        None        None  None             no\n",
            "8    A8  Feature   Continuous        None        None  None             no\n",
            "9    A7  Feature  Categorical        None        None  None            yes\n",
            "10   A6  Feature  Categorical        None        None  None            yes\n",
            "11   A5  Feature  Categorical        None        None  None            yes\n",
            "12   A4  Feature  Categorical        None        None  None            yes\n",
            "13   A3  Feature   Continuous        None        None  None             no\n",
            "14   A2  Feature   Continuous        None        None  None            yes\n",
            "15   A1  Feature  Categorical        None        None  None            yes\n",
            "A15     0\n",
            "A14    13\n",
            "A13     0\n",
            "A12     0\n",
            "A11     0\n",
            "A10     0\n",
            "A9      0\n",
            "A8      0\n",
            "A7      9\n",
            "A6      9\n",
            "A5      6\n",
            "A4      6\n",
            "A3      0\n",
            "A2     12\n",
            "A1     12\n",
            "dtype: int64\n"
          ]
        }
      ]
    },
    {
      "cell_type": "code",
      "source": [
        "from sklearn.impute import SimpleImputer\n",
        "import pandas as pd\n",
        "\n",
        "# Eksik değerlerin olduğu satırları bul ve sakla\n",
        "missing_rows = X[X.isna().any(axis=1)]\n",
        "\n",
        "# Mean ile eksik değer doldurma\n",
        "mean_imputer = SimpleImputer(strategy='mean')\n",
        "X_numeric_mean_imputed = pd.DataFrame(mean_imputer.fit_transform(X[numeric_columns]), columns=numeric_columns)\n",
        "X_mean_imputed = pd.concat([X_numeric_mean_imputed, X[categorical_columns]], axis=1)\n",
        "\n",
        "# Median ile eksik değer doldurma\n",
        "median_imputer = SimpleImputer(strategy='median')\n",
        "X_numeric_median_imputed = pd.DataFrame(median_imputer.fit_transform(X[numeric_columns]), columns=numeric_columns)\n",
        "X_median_imputed = pd.concat([X_numeric_median_imputed, X[categorical_columns]], axis=1)\n",
        "\n",
        "# Eksik değerlerin olduğu satırların karşılaştırmalı tablosunu oluştur\n",
        "comparison_rows = pd.concat(\n",
        "    [\n",
        "        missing_rows.reset_index().add_suffix('_original'),  # Orijinal veriler\n",
        "        X_mean_imputed.loc[missing_rows.index].reset_index(drop=True).add_suffix('_mean'),  # Mean ile doldurulmuş\n",
        "        X_median_imputed.loc[missing_rows.index].reset_index(drop=True).add_suffix('_median'),  # Median ile doldurulmuş\n",
        "    ],\n",
        "    axis=1\n",
        ")\n",
        "\n",
        "# Tablonun alt alta geçmemesi için geniş yazdırma\n",
        "pd.set_option('display.max_columns', None)  # Tüm sütunları göster\n",
        "pd.set_option('display.width', 1000)  # Satır genişliğini artır\n",
        "\n",
        "# Karşılaştırmalı tabloyu yazdır\n",
        "print(comparison_rows)\n",
        "\n",
        "\n"
      ],
      "metadata": {
        "id": "AjUyrA0UCEwB",
        "outputId": "4dc9bc8b-2940-46a8-8c9c-65d768fdebea",
        "colab": {
          "base_uri": "https://localhost:8080/"
        }
      },
      "execution_count": null,
      "outputs": [
        {
          "output_type": "stream",
          "name": "stdout",
          "text": [
            "    index_original  A15_original  A14_original A13_original A12_original  A11_original A10_original A9_original  A8_original A7_original A6_original A5_original A4_original  A3_original  A2_original A1_original  A15_mean     A14_mean  A11_mean  A8_mean  A3_mean    A2_mean A13_mean A12_mean A10_mean A9_mean A7_mean A6_mean A5_mean A4_mean A1_mean  A15_median  A14_median  A11_median  A8_median  A3_median  A2_median A13_median A12_median A10_median A9_median A7_median A6_median A5_median A4_median A1_median\n",
            "0               71             0           NaN            g            t             0            f           t       12.500          bb           d           g           u        4.000        34.83           b       0.0   184.014771       0.0   12.500    4.000  34.830000        g        t        f       t      bb       d       g       u       b         0.0       160.0         0.0     12.500      4.000      34.83          g          t          f         t        bb         d         g         u         b\n",
            "1               83             0         300.0            g            t             0            f           t        3.000           v           d           g           u        3.500          NaN           a       0.0   300.000000       0.0    3.000    3.500  31.568171        g        t        f       t       v       d       g       u       a         0.0       300.0         0.0      3.000      3.500      28.46          g          t          f         t         v         d         g         u         a\n",
            "2               86             0         928.0            s            t             0            f           t        0.875           v           d           g           u        0.375          NaN           b       0.0   928.000000       0.0    0.875    0.375  31.568171        s        t        f       t       v       d       g       u       b         0.0       928.0         0.0      0.875      0.375      28.46          s          t          f         t         v         d         g         u         b\n",
            "3               92             0           0.0            g            f             0            f           t        8.500           v          aa           p           y        5.000          NaN           b       0.0     0.000000       0.0    8.500    5.000  31.568171        g        f        f       t       v      aa       p       y       b         0.0         0.0         0.0      8.500      5.000      28.46          g          f          f         t         v        aa         p         y         b\n",
            "4               97             0         320.0            s            t             0            f           t        0.835          bb           c           g           u        0.500          NaN           b       0.0   320.000000       0.0    0.835    0.500  31.568171        s        t        f       t      bb       c       g       u       b         0.0       320.0         0.0      0.835      0.500      28.46          s          t          f         t        bb         c         g         u         b\n",
            "5              202           600           NaN            g            f             6            t           t        2.250           v           c           g           u        2.750        24.83           b     600.0   184.014771       6.0    2.250    2.750  24.830000        g        f        t       t       v       c       g       u       b       600.0       160.0         6.0      2.250      2.750      24.83          g          f          t         t         v         c         g         u         b\n",
            "6              206             0           NaN            p            f             0            f           f        0.000         NaN         NaN         NaN         NaN        0.000        71.58           a       0.0   184.014771       0.0    0.000    0.000  71.580000        p        f        f       f     NaN     NaN     NaN     NaN       a         0.0       160.0         0.0      0.000      0.000      71.58          p          f          f         f       NaN       NaN       NaN       NaN         a\n",
            "7              243         26726           NaN            g            f             5            t           t        2.710           v           q           g           u        7.500        18.75           a   26726.0   184.014771       5.0    2.710    7.500  18.750000        g        f        t       t       v       q       g       u       a     26726.0       160.0         5.0      2.710      7.500      18.75          g          f          t         t         v         q         g         u         a\n",
            "8              248           444          73.0            g            f             2            t           t        4.750          bb           c           g           u       12.750        24.50         NaN     444.0    73.000000       2.0    4.750   12.750  24.500000        g        f        t       t      bb       c       g       u     NaN       444.0        73.0         2.0      4.750     12.750      24.50          g          f          t         t        bb         c         g         u       NaN\n",
            "9              254          2010         380.0            g            f             0            f           f        0.250           v           k           g           u        0.625          NaN           b    2010.0   380.000000       0.0    0.250    0.625  31.568171        g        f        f       f       v       k       g       u       b      2010.0       380.0         0.0      0.250      0.625      28.46          g          f          f         f         v         k         g         u         b\n",
            "10             270             0           NaN            p            f             0            f           f        0.000         NaN         NaN         NaN         NaN        0.000        37.58           b       0.0   184.014771       0.0    0.000    0.000  37.580000        p        f        f       f     NaN     NaN     NaN     NaN       b         0.0       160.0         0.0      0.000      0.000      37.58          p          f          f         f       NaN       NaN       NaN       NaN         b\n",
            "11             278             0           NaN            g            f             0            f           f        0.000          ff          ff           p           y       13.500        24.58           b       0.0   184.014771       0.0    0.000   13.500  24.580000        g        f        f       f      ff      ff       p       y       b         0.0       160.0         0.0      0.000     13.500      24.58          g          f          f         f        ff        ff         p         y         b\n",
            "12             286           105         200.0            g            t             2            t           f        0.000          ff          ff           g           u        1.500          NaN           a     105.0   200.000000       2.0    0.000    1.500  31.568171        g        t        t       f      ff      ff       g       u       a       105.0       200.0         2.0      0.000      1.500      28.46          g          t          t         f        ff        ff         g         u         a\n",
            "13             327             0        1160.0            s            f             0            f           f        0.500          bb           i           g           u        3.500        40.83         NaN       0.0  1160.000000       0.0    0.500    3.500  40.830000        s        f        f       f      bb       i       g       u     NaN         0.0      1160.0         0.0      0.500      3.500      40.83          s          f          f         f        bb         i         g         u       NaN\n",
            "14             329             0         411.0            g            t             0            f           f        0.085           v           i           p           y        4.000          NaN           b       0.0   411.000000       0.0    0.085    4.000  31.568171        g        t        f       f       v       i       p       y       b         0.0       411.0         0.0      0.085      4.000      28.46          g          t          f         f         v         i         p         y         b\n",
            "15             330             0           NaN            p            f             0            f           f        0.000         NaN         NaN         NaN         NaN        0.000        20.42           b       0.0   184.014771       0.0    0.000    0.000  20.420000        p        f        f       f     NaN     NaN     NaN     NaN       b         0.0       160.0         0.0      0.000      0.000      20.42          p          f          f         f       NaN       NaN       NaN       NaN         b\n",
            "16             346           122         372.0            g            t             0            f           f        0.250           v           c           g           u        1.500        32.25         NaN     122.0   372.000000       0.0    0.250    1.500  32.250000        g        t        f       f       v       c       g       u     NaN       122.0       372.0         0.0      0.250      1.500      32.25          g          t          f         f         v         c         g         u       NaN\n",
            "17             374          1004         260.0            g            f             0            f           f        0.040           v          aa           g           u        0.585        28.17         NaN    1004.0   260.000000       0.0    0.040    0.585  28.170000        g        f        f       f       v      aa       g       u     NaN      1004.0       260.0         0.0      0.040      0.585      28.17          g          f          f         f         v        aa         g         u       NaN\n",
            "18             406            18           NaN            g            f             2            t           f        0.165           v           k           p           y        8.125        40.33           a      18.0   184.014771       2.0    0.165    8.125  40.330000        g        f        t       f       v       k       p       y       a        18.0       160.0         2.0      0.165      8.125      40.33          g          f          t         f         v         k         p         y         a\n",
            "19             445          5200           NaN            g            f             0            f           f        0.000          ff          ff           g           u       11.250          NaN           a    5200.0   184.014771       0.0    0.000   11.250  31.568171        g        f        f       f      ff      ff       g       u       a      5200.0       160.0         0.0      0.000     11.250      28.46          g          f          f         f        ff        ff         g         u         a\n",
            "20             450             1           0.0            g            f             0            f           f        7.000          bb           i           p           y        3.000          NaN           b       1.0     0.000000       0.0    7.000    3.000  31.568171        g        f        f       f      bb       i       p       y       b         1.0         0.0         0.0      7.000      3.000      28.46          g          f          f         f        bb         i         p         y         b\n",
            "21             453             0         300.0            g            t             0            f           f        0.250           v           w           g           u        0.665        29.75         NaN       0.0   300.000000       0.0    0.250    0.665  29.750000        g        t        f       f       v       w       g       u     NaN         0.0       300.0         0.0      0.250      0.665      29.75          g          t          f         f         v         w         g         u       NaN\n",
            "22             456             0           NaN            p            f             0            f           f        0.000         NaN         NaN         NaN         NaN        0.000        34.58           b       0.0   184.014771       0.0    0.000    0.000  34.580000        p        f        f       f     NaN     NaN     NaN     NaN       b         0.0       160.0         0.0      0.000      0.000      34.58          p          f          f         f       NaN       NaN       NaN       NaN         b\n",
            "23             479             0          80.0            s            f             0            f           f        0.085         NaN         NaN           p           y        2.710        26.50         NaN       0.0    80.000000       0.0    0.085    2.710  26.500000        s        f        f       f     NaN     NaN       p       y     NaN         0.0        80.0         0.0      0.085      2.710      26.50          s          f          f         f       NaN       NaN         p         y       NaN\n",
            "24             489             0         263.0            g            t             0            f           f        0.125           v           q           g           u        1.000        45.33         NaN       0.0   263.000000       0.0    0.125    1.000  45.330000        g        t        f       f       v       q       g       u     NaN         0.0       263.0         0.0      0.125      1.000      45.33          g          t          f         f         v         q         g         u       NaN\n",
            "25             500          2279         290.0            g            t             3            t           t        5.000           v           x           g           u        4.000          NaN           b    2279.0   290.000000       3.0    5.000    4.000  31.568171        g        t        t       t       v       x       g       u       b      2279.0       290.0         3.0      5.000      4.000      28.46          g          t          t         t         v         x         g         u         b\n",
            "26             515             0           0.0            g            f             0            f           t        6.500           v           x           g           u       10.500          NaN           b       0.0     0.000000       0.0    6.500   10.500  31.568171        g        f        f       t       v       x       g       u       b         0.0         0.0         0.0      6.500     10.500      28.46          g          f          f         t         v         x         g         u         b\n",
            "27             520           234         160.0            g            f             1            t           t        1.500           v           k           g           u        7.500        20.42         NaN     234.0   160.000000       1.0    1.500    7.500  20.420000        g        f        t       t       v       k       g       u     NaN       234.0       160.0         1.0      1.500      7.500      20.42          g          f          t         t         v         k         g         u       NaN\n",
            "28             539           340           0.0            g            f             0            f           t        0.540         NaN         NaN           g           u        5.500        80.25           b     340.0     0.000000       0.0    0.540    5.500  80.250000        g        f        f       t     NaN     NaN       g       u       b       340.0         0.0         0.0      0.540      5.500      80.25          g          f          f         t       NaN       NaN         g         u         b\n",
            "29             592             0           NaN            p            f             0            f           f        0.000         NaN         NaN         NaN         NaN        0.000        23.17           b       0.0   184.014771       0.0    0.000    0.000  23.170000        p        f        f       f     NaN     NaN     NaN     NaN       b         0.0       160.0         0.0      0.000      0.000      23.17          p          f          f         f       NaN       NaN       NaN       NaN         b\n",
            "30             598           768         240.0            g            f             1            t           f        1.000           v           q           g           u        0.125        20.08         NaN     768.0   240.000000       1.0    1.000    0.125  20.080000        g        f        t       f       v       q       g       u     NaN       768.0       240.0         1.0      1.000      0.125      20.08          g          f          t         f         v         q         g         u       NaN\n",
            "31             601             1         150.0            g            t             0            f           f        0.000         NaN         NaN           p           y        1.750        42.25         NaN       1.0   150.000000       0.0    0.000    1.750  42.250000        g        t        f       f     NaN     NaN       p       y     NaN         1.0       150.0         0.0      0.000      1.750      42.25          g          t          f         f       NaN       NaN         p         y       NaN\n",
            "32             608             0         460.0            g            t             0            f           f        4.250           v           d           p           y        0.040          NaN           b       0.0   460.000000       0.0    4.250    0.040  31.568171        g        t        f       f       v       d       p       y       b         0.0       460.0         0.0      4.250      0.040      28.46          g          t          f         f         v         d         p         y         b\n",
            "33             622             0           NaN            p            f             0            f           f        0.000         NaN         NaN         NaN         NaN        0.000        25.58           a       0.0   184.014771       0.0    0.000    0.000  25.580000        p        f        f       f     NaN     NaN     NaN     NaN       a         0.0       160.0         0.0      0.000      0.000      25.58          p          f          f         f       NaN       NaN       NaN       NaN         a\n",
            "34             626             0           NaN            g            t             0            f           f        0.165          bb           i           p           y        7.835        22.00           b       0.0   184.014771       0.0    0.165    7.835  22.000000        g        t        f       f      bb       i       p       y       b         0.0       160.0         0.0      0.165      7.835      22.00          g          t          f         f        bb         i         p         y         b\n",
            "35             641           141         200.0            g            t             0            f           f        3.500           v          cc           p           y        2.250        33.17         NaN     141.0   200.000000       0.0    3.500    2.250  33.170000        g        t        f       f       v      cc       p       y     NaN       141.0       200.0         0.0      3.500      2.250      33.17          g          t          f         f         v        cc         p         y       NaN\n",
            "36             673            17         256.0            g            f             0            f           f        2.000           h           e           p           y        2.000        29.50         NaN      17.0   256.000000       0.0    2.000    2.000  29.500000        g        f        f       f       h       e       p       y     NaN        17.0       256.0         0.0      2.000      2.000      29.50          g          f          f         f         h         e         p         y       NaN\n"
          ]
        }
      ]
    },
    {
      "cell_type": "code",
      "source": [
        "# Sayısal ve kategorik sütunları ayır\n",
        "numeric_columns = X.select_dtypes(include=['int64', 'float64']).columns\n",
        "categorical_columns = X.select_dtypes(exclude=['int64', 'float64']).columns\n",
        "\n",
        "print(\"Sayısal Sütunlar:\", numeric_columns)\n",
        "print(\"Kategorik Sütunlar:\", categorical_columns)"
      ],
      "metadata": {
        "colab": {
          "base_uri": "https://localhost:8080/"
        },
        "id": "zbbmPDPqyVb8",
        "outputId": "4248da68-e808-4e8a-8796-e6db21669b46"
      },
      "execution_count": null,
      "outputs": [
        {
          "output_type": "stream",
          "name": "stdout",
          "text": [
            "Sayısal Sütunlar: Index(['A15', 'A14', 'A11', 'A8', 'A3', 'A2'], dtype='object')\n",
            "Kategorik Sütunlar: Index(['A13', 'A12', 'A10', 'A9', 'A7', 'A6', 'A5', 'A4', 'A1'], dtype='object')\n"
          ]
        }
      ]
    },
    {
      "cell_type": "code",
      "source": [
        "from sklearn.impute import SimpleImputer\n",
        "import pandas as pd\n",
        "\n",
        "# Sadece sayısal sütunlar için\n",
        "mean_imputer = SimpleImputer(strategy='mean')\n",
        "X_numeric_mean_imputed = pd.DataFrame(mean_imputer.fit_transform(X[numeric_columns]), columns=numeric_columns)\n",
        "\n",
        "# Kategorik verileri geri ekle\n",
        "X_mean_imputed = pd.concat([X_numeric_mean_imputed, X[categorical_columns]], axis=1)\n",
        "\n",
        "print(X_mean_imputed.head())"
      ],
      "metadata": {
        "colab": {
          "base_uri": "https://localhost:8080/"
        },
        "id": "9tkK71lxyt5B",
        "outputId": "ef3cdc5f-0699-4b5b-d6c0-2f4b9dd42adc"
      },
      "execution_count": null,
      "outputs": [
        {
          "output_type": "stream",
          "name": "stdout",
          "text": [
            "     A15    A14  A11    A8     A3     A2 A13 A12 A10 A9 A7 A6 A5 A4 A1\n",
            "0    0.0  202.0  1.0  1.25  0.000  30.83   g   f   t  t  v  w  g  u  b\n",
            "1  560.0   43.0  6.0  3.04  4.460  58.67   g   f   t  t  h  q  g  u  a\n",
            "2  824.0  280.0  0.0  1.50  0.500  24.50   g   f   f  t  h  q  g  u  a\n",
            "3    3.0  100.0  5.0  3.75  1.540  27.83   g   t   t  t  v  w  g  u  b\n",
            "4    0.0  120.0  0.0  1.71  5.625  20.17   s   f   f  t  v  w  g  u  b\n"
          ]
        }
      ]
    },
    {
      "cell_type": "code",
      "source": [
        "# Sadece sayısal sütunlar için\n",
        "median_imputer = SimpleImputer(strategy='median')\n",
        "X_numeric_median_imputed = pd.DataFrame(median_imputer.fit_transform(X[numeric_columns]), columns=numeric_columns)\n",
        "\n",
        "# Kategorik verileri geri ekle\n",
        "X_median_imputed = pd.concat([X_numeric_median_imputed, X[categorical_columns]], axis=1)\n",
        "\n",
        "print(X_median_imputed.head())"
      ],
      "metadata": {
        "colab": {
          "base_uri": "https://localhost:8080/"
        },
        "id": "RhHWsK1Vy2O5",
        "outputId": "bd922170-2991-4057-f283-e4e53cd7872e"
      },
      "execution_count": null,
      "outputs": [
        {
          "output_type": "stream",
          "name": "stdout",
          "text": [
            "     A15    A14  A11    A8     A3     A2 A13 A12 A10 A9 A7 A6 A5 A4 A1\n",
            "0    0.0  202.0  1.0  1.25  0.000  30.83   g   f   t  t  v  w  g  u  b\n",
            "1  560.0   43.0  6.0  3.04  4.460  58.67   g   f   t  t  h  q  g  u  a\n",
            "2  824.0  280.0  0.0  1.50  0.500  24.50   g   f   f  t  h  q  g  u  a\n",
            "3    3.0  100.0  5.0  3.75  1.540  27.83   g   t   t  t  v  w  g  u  b\n",
            "4    0.0  120.0  0.0  1.71  5.625  20.17   s   f   f  t  v  w  g  u  b\n"
          ]
        }
      ]
    },
    {
      "cell_type": "code",
      "source": [
        "from sklearn.impute import KNNImputer\n",
        "\n",
        "# Sadece sayısal sütunlar için\n",
        "knn_imputer = KNNImputer(n_neighbors=5)\n",
        "X_numeric_knn_imputed = pd.DataFrame(knn_imputer.fit_transform(X[numeric_columns]), columns=numeric_columns)\n",
        "\n",
        "# Kategorik verileri geri ekle\n",
        "X_knn_imputed = pd.concat([X_numeric_knn_imputed, X[categorical_columns]], axis=1)\n",
        "\n",
        "print(X_knn_imputed.head())"
      ],
      "metadata": {
        "colab": {
          "base_uri": "https://localhost:8080/"
        },
        "id": "ZksF_pzry7pc",
        "outputId": "96fbdfb9-9d00-4f40-be62-ca53856b5c66"
      },
      "execution_count": null,
      "outputs": [
        {
          "output_type": "stream",
          "name": "stdout",
          "text": [
            "     A15    A14  A11    A8     A3     A2 A13 A12 A10 A9 A7 A6 A5 A4 A1\n",
            "0    0.0  202.0  1.0  1.25  0.000  30.83   g   f   t  t  v  w  g  u  b\n",
            "1  560.0   43.0  6.0  3.04  4.460  58.67   g   f   t  t  h  q  g  u  a\n",
            "2  824.0  280.0  0.0  1.50  0.500  24.50   g   f   f  t  h  q  g  u  a\n",
            "3    3.0  100.0  5.0  3.75  1.540  27.83   g   t   t  t  v  w  g  u  b\n",
            "4    0.0  120.0  0.0  1.71  5.625  20.17   s   f   f  t  v  w  g  u  b\n"
          ]
        }
      ]
    },
    {
      "cell_type": "code",
      "source": [
        "# Kategorik sütunlara mode imputasyonu uygula\n",
        "mode_imputer = SimpleImputer(strategy='most_frequent')\n",
        "X_categorical_mode_imputed = pd.DataFrame(mode_imputer.fit_transform(X[categorical_columns]), columns=categorical_columns)\n",
        "\n",
        "# Sayısal ve kategorik verileri birleştir\n",
        "X_final_imputed = pd.concat([X_numeric_knn_imputed, X_categorical_mode_imputed], axis=1)\n",
        "\n",
        "print(X_final_imputed.head())\n"
      ],
      "metadata": {
        "colab": {
          "base_uri": "https://localhost:8080/"
        },
        "id": "l0cDTwGczEzA",
        "outputId": "3a22605b-e75e-45bb-909b-0616a4a467c6"
      },
      "execution_count": null,
      "outputs": [
        {
          "output_type": "stream",
          "name": "stdout",
          "text": [
            "     A15    A14  A11    A8     A3     A2 A13 A12 A10 A9 A7 A6 A5 A4 A1\n",
            "0    0.0  202.0  1.0  1.25  0.000  30.83   g   f   t  t  v  w  g  u  b\n",
            "1  560.0   43.0  6.0  3.04  4.460  58.67   g   f   t  t  h  q  g  u  a\n",
            "2  824.0  280.0  0.0  1.50  0.500  24.50   g   f   f  t  h  q  g  u  a\n",
            "3    3.0  100.0  5.0  3.75  1.540  27.83   g   t   t  t  v  w  g  u  b\n",
            "4    0.0  120.0  0.0  1.71  5.625  20.17   s   f   f  t  v  w  g  u  b\n"
          ]
        }
      ]
    },
    {
      "cell_type": "code",
      "source": [
        "from sklearn.impute import SimpleImputer\n",
        "\n",
        "# Mode imputasyonu\n",
        "mode_imputer = SimpleImputer(strategy='most_frequent')\n",
        "X_mode_imputed = pd.DataFrame(mode_imputer.fit_transform(X), columns=X.columns)\n",
        "\n",
        "print(X_mode_imputed.head())\n"
      ],
      "metadata": {
        "colab": {
          "base_uri": "https://localhost:8080/"
        },
        "id": "cnjKg_DUxwY_",
        "outputId": "6dd26074-32f8-4d20-cd10-a60487f3fe67"
      },
      "execution_count": null,
      "outputs": [
        {
          "output_type": "stream",
          "name": "stdout",
          "text": [
            "   A15    A14 A13 A12 A11 A10 A9    A8 A7 A6 A5 A4     A3     A2 A1\n",
            "0    0  202.0   g   f   1   t  t  1.25  v  w  g  u    0.0  30.83  b\n",
            "1  560   43.0   g   f   6   t  t  3.04  h  q  g  u   4.46  58.67  a\n",
            "2  824  280.0   g   f   0   f  t   1.5  h  q  g  u    0.5   24.5  a\n",
            "3    3  100.0   g   t   5   t  t  3.75  v  w  g  u   1.54  27.83  b\n",
            "4    0  120.0   s   f   0   f  t  1.71  v  w  g  u  5.625  20.17  b\n"
          ]
        }
      ]
    }
  ],
  "metadata": {
    "colab": {
      "provenance": []
    },
    "kernelspec": {
      "display_name": "Python 3",
      "name": "python3"
    },
    "language_info": {
      "name": "python"
    }
  },
  "nbformat": 4,
  "nbformat_minor": 0
}